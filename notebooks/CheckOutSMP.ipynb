{
 "cells": [
  {
   "cell_type": "code",
   "execution_count": 3,
   "id": "17a52efa-13d3-47d2-b74b-5ddb79161dab",
   "metadata": {},
   "outputs": [
    {
     "data": {
      "image/png": "[encoded data removed]",
      "text/plain": [
       "<Figure size 432x288 with 1 Axes>"
      ]
     },
     "metadata": {
      "needs_background": "light"
     },
     "output_type": "display_data"
    }
   ],
   "source": [
    "from snowmicropyn import Profile,density_ssa\n",
    "import matplotlib.pyplot as plt\n",
    "\n",
    "p = Profile.load('../data/SMP/SNEX20_SMP_S19M1174_2N13_20200206.PNT',)\n",
    "\n",
    "plt.plot(p.samples.distance, p.samples.force)\n",
    "# Prettify our plot a bit\n",
    "plt.title(p.name)\n",
    "plt.ylabel('Force [N]')\n",
    "plt.xlabel('Depth [mm]')\n",
    "plt.show()"
   ]
  },
  {
   "cell_type": "code",
   "execution_count": 4,
   "id": "8b95e7ec-24e9-4e09-ad4e-d9ad7f7d9430",
   "metadata": {},
   "outputs": [
    {
     "data": {
      "text/html": [
       "<div>\n",
       "<style scoped>\n",
       "    .dataframe tbody tr th:only-of-type {\n",
       "        vertical-align: middle;\n",
       "    }\n",
       "\n",
       "    .dataframe tbody tr th {\n",
       "        vertical-align: top;\n",
       "    }\n",
       "\n",
       "    .dataframe thead th {\n",
       "        text-align: right;\n",
       "    }\n",
       "</style>\n",
       "<table border=\"1\" class=\"dataframe\">\n",
       "  <thead>\n",
       "    <tr style=\"text-align: right;\">\n",
       "      <th></th>\n",
       "      <th>distance</th>\n",
       "      <th>density</th>\n",
       "      <th>ssa</th>\n",
       "    </tr>\n",
       "  </thead>\n",
       "  <tbody>\n",
       "    <tr>\n",
       "      <th>0</th>\n",
       "      <td>0.0</td>\n",
       "      <td>137.892918</td>\n",
       "      <td>42.906107</td>\n",
       "    </tr>\n",
       "    <tr>\n",
       "      <th>1</th>\n",
       "      <td>0.5</td>\n",
       "      <td>131.761703</td>\n",
       "      <td>46.953674</td>\n",
       "    </tr>\n",
       "    <tr>\n",
       "      <th>2</th>\n",
       "      <td>1.0</td>\n",
       "      <td>112.840236</td>\n",
       "      <td>72.835248</td>\n",
       "    </tr>\n",
       "    <tr>\n",
       "      <th>3</th>\n",
       "      <td>1.5</td>\n",
       "      <td>111.483328</td>\n",
       "      <td>72.517089</td>\n",
       "    </tr>\n",
       "    <tr>\n",
       "      <th>4</th>\n",
       "      <td>2.0</td>\n",
       "      <td>111.883190</td>\n",
       "      <td>71.394604</td>\n",
       "    </tr>\n",
       "    <tr>\n",
       "      <th>...</th>\n",
       "      <td>...</td>\n",
       "      <td>...</td>\n",
       "      <td>...</td>\n",
       "    </tr>\n",
       "    <tr>\n",
       "      <th>2895</th>\n",
       "      <td>1447.5</td>\n",
       "      <td>261.407416</td>\n",
       "      <td>13.596440</td>\n",
       "    </tr>\n",
       "    <tr>\n",
       "      <th>2896</th>\n",
       "      <td>1448.0</td>\n",
       "      <td>246.939210</td>\n",
       "      <td>17.867881</td>\n",
       "    </tr>\n",
       "    <tr>\n",
       "      <th>2897</th>\n",
       "      <td>1448.5</td>\n",
       "      <td>224.508929</td>\n",
       "      <td>23.655532</td>\n",
       "    </tr>\n",
       "    <tr>\n",
       "      <th>2898</th>\n",
       "      <td>1449.0</td>\n",
       "      <td>244.755556</td>\n",
       "      <td>17.464612</td>\n",
       "    </tr>\n",
       "    <tr>\n",
       "      <th>2899</th>\n",
       "      <td>1449.5</td>\n",
       "      <td>241.743093</td>\n",
       "      <td>18.114203</td>\n",
       "    </tr>\n",
       "  </tbody>\n",
       "</table>\n",
       "<p>2900 rows × 3 columns</p>\n",
       "</div>"
      ],
      "text/plain": [
       "      distance     density        ssa\n",
       "0          0.0  137.892918  42.906107\n",
       "1          0.5  131.761703  46.953674\n",
       "2          1.0  112.840236  72.835248\n",
       "3          1.5  111.483328  72.517089\n",
       "4          2.0  111.883190  71.394604\n",
       "...        ...         ...        ...\n",
       "2895    1447.5  261.407416  13.596440\n",
       "2896    1448.0  246.939210  17.867881\n",
       "2897    1448.5  224.508929  23.655532\n",
       "2898    1449.0  244.755556  17.464612\n",
       "2899    1449.5  241.743093  18.114203\n",
       "\n",
       "[2900 rows x 3 columns]"
      ]
     },
     "execution_count": 4,
     "metadata": {},
     "output_type": "execute_result"
    }
   ],
   "source": [
    "density_ssa.calc(p.samples, coeff_model='C2020')"
   ]
  },
  {
   "cell_type": "code",
   "execution_count": null,
   "id": "51f9de9e-d9b0-4d44-8170-f0413096567e",
   "metadata": {},
   "outputs": [],
   "source": []
  }
 ],
 "metadata": {
  "kernelspec": {
   "display_name": "Python 3",
   "language": "python",
   "name": "python3"
  },
  "language_info": {
   "codemirror_mode": {
    "name": "ipython",
    "version": 3
   },
   "file_extension": ".py",
   "mimetype": "text/x-python",
   "name": "python",
   "nbconvert_exporter": "python",
   "pygments_lexer": "ipython3",
   "version": "3.8.8"
  }
 },
 "nbformat": 4,
 "nbformat_minor": 5
}
