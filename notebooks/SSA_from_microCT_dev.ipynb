{
 "cells": [
  {
   "cell_type": "markdown",
   "id": "892cc105-638a-47ee-9ba9-f99d87eb2d4e",
   "metadata": {},
   "source": [
    "### This notebook borrows heavily from SMRT training notebook at https://github.com/smrt-model/training/blob/master/03_microstructure/01_practical_microstructure.ipynb\n"
   ]
  },
  {
   "cell_type": "code",
   "execution_count": null,
   "id": "b2410916-bd5e-45b7-a20b-ced106082c7d",
   "metadata": {},
   "outputs": [],
   "source": [
    "from IPython.display import HTML, display\n",
    "\n",
    "import pandas as pd\n",
    "import numpy as np\n",
    "import matplotlib.pyplot as plt\n",
    "import matplotlib.image as img\n",
    "\n",
    "from scipy import fftpack\n",
    "import scipy.optimize as opt\n",
    "\n",
    "from henning_lowe import cropped_indicator, ice_volume_fraction, ACF2D, ACF1D, acf1d_fit_exp, ssa_from_acf_slope\n"
   ]
  },
  {
   "cell_type": "code",
   "execution_count": null,
   "id": "347e0f8f-a4fa-423f-9bab-59f5660c8796",
   "metadata": {},
   "outputs": [],
   "source": [
    "fig1 = plt.figure()\n",
    "fig1.add_subplot()\n",
    "filename = '../data/microCT/images/2n13_139-137cm_20um_redo_rec_voi_0253.png'\n",
    "png_image=img.imread(filename)\n",
    "plt.imshow(png_image[:,:,0])\n"
   ]
  },
  {
   "cell_type": "code",
   "execution_count": null,
   "id": "9fba9e63-aa89-488f-ae74-fffe7495312f",
   "metadata": {},
   "outputs": [],
   "source": [
    "# Need to crop image to exclude region outside core\n",
    "xmin = 75\n",
    "xmax = 450\n",
    "plt.imshow(png_image[xmin:xmax,xmin:xmax,0])\n"
   ]
  },
  {
   "cell_type": "code",
   "execution_count": null,
   "id": "e68e88bf-d8b9-43a1-8bf4-64b763774530",
   "metadata": {},
   "outputs": [],
   "source": []
  },
  {
   "cell_type": "markdown",
   "id": "54fa02b2-945a-464d-a0f4-5c4131cd482a",
   "metadata": {},
   "source": [
    "## Compute correlation function"
   ]
  },
  {
   "cell_type": "code",
   "execution_count": null,
   "id": "414c3325-ec2a-4d8a-aaab-7b551d79ff06",
   "metadata": {},
   "outputs": [],
   "source": [
    "# get the ice indicator function for an example image\n",
    "#\n",
    "# 20.5 microns: email from Lauren-> Mike 12th Jan 2021\n",
    "# pixel_size = 0.021e-3 # in mm\n",
    "pixel_size = 20.5e-6\n",
    "\n",
    "indicator_function = cropped_indicator(filename)\n",
    "# get the volume fraction\n",
    "volume_fraction = ice_volume_fraction(indicator_function)\n",
    "# ACTION REQUIRED HERE\n",
    "# get the 2d correlation function\n",
    "acf2d = ACF2D(indicator_function)\n",
    "\n",
    "\n",
    "# get the 1d correlation function along an axis\n",
    "acf1d_x = ACF1D(acf2d, 1)\n",
    "acf1d_z = ACF1D(acf2d, 0)\n",
    "\n",
    "# get the corresponding lags\n",
    "r_x = pixel_size * np.arange(len(acf1d_x))\n",
    "r_z = pixel_size * np.arange(len(acf1d_z))\n",
    "\n",
    "\n",
    "# get the fit versions\n",
    "r_max = 100 * pixel_size\n",
    "acf1d_fit_exp_x, opt_param_exp_x = acf1d_fit_exp(r_x, acf1d_x, r_max)\n",
    "print(opt_param_exp_x)\n",
    "acf1d_fit_exp_z, opt_param_exp_z = acf1d_fit_exp(r_z, acf1d_z, r_max)\n",
    "print(opt_param_exp_z)\n",
    "#acf1d_fit_ts_x, opt_param_ts_x = acf1d_fit_ts(r_x, acf1d_x, r_max)\n",
    "#print(opt_param_ts_x)\n",
    "#acf1d_fit_ts_z, opt_param_ts_z = acf1d_fit_ts(r_z, acf1d_z, r_max)\n",
    "#print(opt_param_ts_z)\n",
    "\n",
    "\n",
    "\n",
    "# plot\n",
    "fig2 = plt.figure()\n",
    "ax2 = fig2.add_subplot(111)\n",
    "\n",
    "ax2.plot(r_x, acf1d_x, 's', color='b', label='x: meas')\n",
    "ax2.plot(r_x, acf1d_fit_exp_x, '-', color='b', label='x: fit EXP')\n",
    "#ax2.plot(r_x, acf1d_fit_ts_x, ':', color='b', label='x: fit TS')\n",
    "\n",
    "ax2.plot(r_z, acf1d_z, 'o', color='r', label='z: meas')\n",
    "ax2.plot(r_z, acf1d_fit_exp_z, '-', color='r', label='z: fit EXP')\n",
    "#ax2.plot(r_z, acf1d_fit_ts_z, ':', color='r', label='z: fit TS')\n",
    "\n",
    "ax2.set_xlim([0, 80*pixel_size])\n",
    "ax2.set_xlabel(\"Lag (mm)\")\n",
    "ax2.set_ylabel(\"Correlation functions\")\n",
    "\n",
    "ax2.legend()\n"
   ]
  },
  {
   "cell_type": "code",
   "execution_count": null,
   "id": "1cb6f69a-f726-4b6a-b910-cd38bf39f801",
   "metadata": {},
   "outputs": [],
   "source": [
    "### Check SSA\n",
    "\n",
    "\n",
    "\n",
    "SSA_exp_x = ssa_from_acf_slope(volume_fraction, volume_fraction*(1-volume_fraction)/opt_param_exp_x[1])\n",
    "SSA_exp_z = ssa_from_acf_slope(volume_fraction, volume_fraction*(1-volume_fraction)/opt_param_exp_z[1])\n",
    "#SSA_ts_x = ssa_from_acf_slope(volume_fraction, volume_fraction*(1-volume_fraction)/opt_param_ts_x[1])\n",
    "#SSA_ts_z = ssa_from_acf_slope(volume_fraction, volume_fraction*(1-volume_fraction)/opt_param_ts_z[1])\n",
    "\n",
    "\n",
    "print(\"SSA from exponential fit in x direction: \", SSA_exp_x, \"m^2/kg\")\n",
    "print(\"SSA from exponential fit in z direction: \", SSA_exp_z, \"m^2/kg\")"
   ]
  },
  {
   "cell_type": "code",
   "execution_count": null,
   "id": "38b889ef-25f8-4c1e-aaf3-3bb6aa404479",
   "metadata": {},
   "outputs": [],
   "source": []
  }
 ],
 "metadata": {
  "kernelspec": {
   "display_name": "Python 3 (ipykernel)",
   "language": "python",
   "name": "python3"
  },
  "language_info": {
   "codemirror_mode": {
    "name": "ipython",
    "version": 3
   },
   "file_extension": ".py",
   "mimetype": "text/x-python",
   "name": "python",
   "nbconvert_exporter": "python",
   "pygments_lexer": "ipython3",
   "version": "3.7.11"
  }
 },
 "nbformat": 4,
 "nbformat_minor": 5
}
