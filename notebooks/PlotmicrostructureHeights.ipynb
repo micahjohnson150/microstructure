{
 "cells": [
  {
   "cell_type": "markdown",
   "id": "33eee358-0b6d-4bc5-9bfe-9fe135610767",
   "metadata": {},
   "source": [
    "### Plots micro-CT height boundaries for pit 2n13"
   ]
  },
  {
   "cell_type": "code",
   "execution_count": null,
   "id": "162eda76-9c23-464f-abb0-c03887d9bc1f",
   "metadata": {},
   "outputs": [],
   "source": [
    "import os\n",
    "import numpy as np"
   ]
  },
  {
   "cell_type": "code",
   "execution_count": null,
   "id": "37f61ae1-0cd0-433a-a6b5-935296842342",
   "metadata": {},
   "outputs": [],
   "source": [
    "# Determine folders containing .png files\n",
    "# Each .png is a 20 micron subsample slice within each 2cm section sample\n",
    "data_dir = \"../data/microCT/images\"\n",
    "dirs = os.listdir(data_dir)\n",
    "print ('There are', len(dirs), 'directories')\n",
    "\n",
    "# Calculate the number of files to analyze!\n",
    "number_of_subsamples = [len(os.listdir(data_dir + '/' + d)) for d in dirs[:-2]]\n",
    "print ('There are', sum(number_of_subsamples), 'image files to analyze')\n",
    "\n",
    "# Pixel size\n",
    "# 20.5 microns: email from Lauren-> Mike 12th Jan 2021\n",
    "pixel_size = 20.5e-6\n"
   ]
  },
  {
   "cell_type": "code",
   "execution_count": null,
   "id": "e071eeba-bd11-4f1d-ad4f-bd17eec07bc5",
   "metadata": {},
   "outputs": [],
   "source": [
    "original_data_structure = ['139-122cm', '124-107cm', '109-92cm', '94-77cm', '79-62cm', '64-47cm',\n",
    "                          '49-32cm', '34-17cm']\n",
    "\n",
    "sample_bounds = [(float(o.split('-')[0]), float(o.split('-')[1][:-2])) for o in original_data_structure]\n",
    "subsample_bounds = [(float(s.split('-')[0]), float(s.split('-')[1][:-2])) for s in dirs[:-2]]"
   ]
  },
  {
   "cell_type": "code",
   "execution_count": null,
   "id": "6d666409-4ea4-4784-a897-591cbf7a3487",
   "metadata": {},
   "outputs": [],
   "source": [
    "s = sample_bounds[0]\n",
    "s[0]-s[1]"
   ]
  },
  {
   "cell_type": "code",
   "execution_count": null,
   "id": "22a06994-7da4-42aa-be39-cff08d4c670b",
   "metadata": {},
   "outputs": [],
   "source": [
    "from matplotlib import pyplot as plt\n",
    "from matplotlib.patches import Rectangle\n",
    "\n",
    "from matplotlib.cm import get_cmap\n",
    "\n",
    "\n",
    "\n",
    "# https://stackoverflow.com/questions/4971269/how-to-pick-a-new-color-for-each-plotted-line-within-a-figure-in-matplotlib\n",
    "name = \"Paired\"\n",
    "cmap = get_cmap(name)  # type: matplotlib.colors.ListedColormap\n",
    "colors = cmap.colors  # type: list# plot sample boundaries\n",
    "\n",
    "sampleX = 0.2\n",
    "subsampleX = 0.6\n",
    "currentAxis = plt.gca()\n",
    "\n",
    "plt.ylim(0,150)\n",
    "plt.xlim(0,0.5)\n",
    "# Samples\n",
    "for i, s in enumerate(sample_bounds):\n",
    "    currentAxis.add_patch(Rectangle((sampleX, s[1]), width=0.2, height=s[0]-s[1], fill=None, edgecolor=colors[i]))\n",
    "    \n",
    "    \n",
    "plt.show()"
   ]
  },
  {
   "cell_type": "code",
   "execution_count": null,
   "id": "e155e9fb-068b-4398-8e58-2f8253e6ff30",
   "metadata": {},
   "outputs": [],
   "source": [
    "import pandas as pd\n",
    "data = pd.read_csv('reprocessed_microCT.csv')"
   ]
  },
  {
   "cell_type": "code",
   "execution_count": null,
   "id": "041c0f80-616e-4c17-88cb-1a70aa2ee919",
   "metadata": {},
   "outputs": [],
   "source": [
    "data.head()"
   ]
  },
  {
   "cell_type": "code",
   "execution_count": null,
   "id": "3873104a-4b0f-4b25-a331-e96127f856de",
   "metadata": {},
   "outputs": [],
   "source": [
    "plt.close()\n",
    "plt.scatter(data.Deq_x, data.estimated_height)\n",
    "plt.scatter(data.Deq_y, data.estimated_height)\n",
    "plt.xlim(0,1)"
   ]
  },
  {
   "cell_type": "code",
   "execution_count": null,
   "id": "07b3582f-597e-4125-92fa-93124c325cbf",
   "metadata": {},
   "outputs": [],
   "source": [
    "plt.close()\n",
    "roll=1000\n",
    "plt.scatter(data.Deq_x.rolling(roll).median(), data.estimated_height.rolling(roll).median())\n",
    "plt.scatter(data.Deq_y.rolling(roll).median(), data.estimated_height.rolling(roll).median())"
   ]
  },
  {
   "cell_type": "code",
   "execution_count": null,
   "id": "40ab89d6-b72f-4cec-82d9-fd1e9651892f",
   "metadata": {},
   "outputs": [],
   "source": [
    "plt.close()\n",
    "roll=1000\n",
    "plt.scatter(data.fractional_volume, data.estimated_height, label='non')\n",
    "plt.scatter(data.fractional_volume.rolling(roll).median(), data.estimated_height.rolling(roll).median(), label='roll')\n",
    "plt.legend()"
   ]
  },
  {
   "cell_type": "code",
   "execution_count": null,
   "id": "00665a2e-b1bf-4e10-ad48-b37bd8b1b3be",
   "metadata": {},
   "outputs": [],
   "source": []
  }
 ],
 "metadata": {
  "kernelspec": {
   "display_name": "Python 3 (ipykernel)",
   "language": "python",
   "name": "python3"
  },
  "language_info": {
   "codemirror_mode": {
    "name": "ipython",
    "version": 3
   },
   "file_extension": ".py",
   "mimetype": "text/x-python",
   "name": "python",
   "nbconvert_exporter": "python",
   "pygments_lexer": "ipython3",
   "version": "3.7.10"
  }
 },
 "nbformat": 4,
 "nbformat_minor": 5
}
