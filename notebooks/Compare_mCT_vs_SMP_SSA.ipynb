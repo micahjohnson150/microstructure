{
 "cells": [
  {
   "cell_type": "code",
   "execution_count": 1,
   "id": "822dd657",
   "metadata": {},
   "outputs": [],
   "source": [
    "import pickle\n",
    "import pandas as pd\n",
    "import numpy as np\n",
    "import matplotlib.pyplot as plt"
   ]
  },
  {
   "cell_type": "markdown",
   "id": "cfec14cc",
   "metadata": {},
   "source": [
    "# Read in mCT data"
   ]
  },
  {
   "cell_type": "code",
   "execution_count": 2,
   "id": "313e8c73",
   "metadata": {},
   "outputs": [
    {
     "data": {
      "image/png": "[encoded data removed]",
      "text/plain": [
       "<Figure size 432x288 with 1 Axes>"
      ]
     },
     "metadata": {
      "needs_background": "light"
     },
     "output_type": "display_data"
    },
    {
     "data": {
      "text/html": [
       "<div>\n",
       "<style scoped>\n",
       "    .dataframe tbody tr th:only-of-type {\n",
       "        vertical-align: middle;\n",
       "    }\n",
       "\n",
       "    .dataframe tbody tr th {\n",
       "        vertical-align: top;\n",
       "    }\n",
       "\n",
       "    .dataframe thead th {\n",
       "        text-align: right;\n",
       "    }\n",
       "</style>\n",
       "<table border=\"1\" class=\"dataframe\">\n",
       "  <thead>\n",
       "    <tr style=\"text-align: right;\">\n",
       "      <th></th>\n",
       "      <th>height (cm)</th>\n",
       "      <th>SSA (m2/kg)</th>\n",
       "      <th>Equiv. Diam (mm)</th>\n",
       "    </tr>\n",
       "  </thead>\n",
       "  <tbody>\n",
       "    <tr>\n",
       "      <th>0</th>\n",
       "      <td>17.0</td>\n",
       "      <td>10.439117</td>\n",
       "      <td>0.626784</td>\n",
       "    </tr>\n",
       "    <tr>\n",
       "      <th>1</th>\n",
       "      <td>19.0</td>\n",
       "      <td>10.734602</td>\n",
       "      <td>0.609531</td>\n",
       "    </tr>\n",
       "    <tr>\n",
       "      <th>2</th>\n",
       "      <td>20.0</td>\n",
       "      <td>10.605736</td>\n",
       "      <td>0.616937</td>\n",
       "    </tr>\n",
       "    <tr>\n",
       "      <th>3</th>\n",
       "      <td>22.0</td>\n",
       "      <td>10.908942</td>\n",
       "      <td>0.599790</td>\n",
       "    </tr>\n",
       "    <tr>\n",
       "      <th>4</th>\n",
       "      <td>24.0</td>\n",
       "      <td>11.167612</td>\n",
       "      <td>0.585897</td>\n",
       "    </tr>\n",
       "    <tr>\n",
       "      <th>...</th>\n",
       "      <td>...</td>\n",
       "      <td>...</td>\n",
       "      <td>...</td>\n",
       "    </tr>\n",
       "    <tr>\n",
       "      <th>66</th>\n",
       "      <td>129.0</td>\n",
       "      <td>18.648615</td>\n",
       "      <td>0.350861</td>\n",
       "    </tr>\n",
       "    <tr>\n",
       "      <th>67</th>\n",
       "      <td>131.0</td>\n",
       "      <td>17.393446</td>\n",
       "      <td>0.376181</td>\n",
       "    </tr>\n",
       "    <tr>\n",
       "      <th>68</th>\n",
       "      <td>133.0</td>\n",
       "      <td>18.042126</td>\n",
       "      <td>0.362655</td>\n",
       "    </tr>\n",
       "    <tr>\n",
       "      <th>69</th>\n",
       "      <td>135.0</td>\n",
       "      <td>19.234373</td>\n",
       "      <td>0.340176</td>\n",
       "    </tr>\n",
       "    <tr>\n",
       "      <th>70</th>\n",
       "      <td>137.0</td>\n",
       "      <td>22.074776</td>\n",
       "      <td>0.296405</td>\n",
       "    </tr>\n",
       "  </tbody>\n",
       "</table>\n",
       "<p>71 rows × 3 columns</p>\n",
       "</div>"
      ],
      "text/plain": [
       "    height (cm)  SSA (m2/kg)  Equiv. Diam (mm)\n",
       "0          17.0    10.439117          0.626784\n",
       "1          19.0    10.734602          0.609531\n",
       "2          20.0    10.605736          0.616937\n",
       "3          22.0    10.908942          0.599790\n",
       "4          24.0    11.167612          0.585897\n",
       "..          ...          ...               ...\n",
       "66        129.0    18.648615          0.350861\n",
       "67        131.0    17.393446          0.376181\n",
       "68        133.0    18.042126          0.362655\n",
       "69        135.0    19.234373          0.340176\n",
       "70        137.0    22.074776          0.296405\n",
       "\n",
       "[71 rows x 3 columns]"
      ]
     },
     "execution_count": 2,
     "metadata": {},
     "output_type": "execute_result"
    }
   ],
   "source": [
    "frames = pickle.load(open('../data/microCT/processed_mCT.p', 'rb'))\n",
    "\n",
    "site = '2N13'\n",
    "\n",
    "# extract dataframe from dict\n",
    "\n",
    "mct_df = frames[site]\n",
    "\n",
    "# plot\n",
    "\n",
    "fig,ax = plt.subplots()\n",
    "ax.plot(mct_df['Equiv. Diam (mm)'],\n",
    "         mct_df['height (cm)'])\n",
    "\n",
    "ax.set_xlabel('Equiv. Diam (mm)')\n",
    "ax.set_ylabel('Height above snow-soil interface [cm]')\n",
    "\n",
    "ax.set_title(f'Site {site.upper()}')\n",
    "\n",
    "plt.show()\n",
    "\n",
    "# return df to get a look at it\n",
    "\n",
    "mct_df"
   ]
  },
  {
   "cell_type": "markdown",
   "id": "e6609ae6",
   "metadata": {},
   "source": [
    "# Read SMP data"
   ]
  },
  {
   "cell_type": "code",
   "execution_count": 3,
   "id": "effe48f0",
   "metadata": {},
   "outputs": [
    {
     "name": "stderr",
     "output_type": "stream",
     "text": [
      "Latitude value -99999.0 invalid, replacing by None\n",
      "Longitude value -99999.0 invalid, replacing by None\n",
      "/Users/mtd/opt/anaconda3/envs/snowex-microstructure/lib/python3.8/site-packages/snowmicropyn-1.0.1-py3.8.egg/snowmicropyn/loewe2012.py:58: RuntimeWarning: invalid value encountered in double_scalars\n",
      "  delta = -(3. / 2) * c_f[n - 1] / (c_f[n] - c_f[n - 1]) * spatial_res\n"
     ]
    },
    {
     "ename": "ZeroDivisionError",
     "evalue": "float division by zero",
     "output_type": "error",
     "traceback": [
      "\u001b[0;31m---------------------------------------------------------------------------\u001b[0m",
      "\u001b[0;31mZeroDivisionError\u001b[0m                         Traceback (most recent call last)",
      "\u001b[0;32m<ipython-input-3-99ee400fe71b>\u001b[0m in \u001b[0;36m<module>\u001b[0;34m\u001b[0m\n\u001b[1;32m      8\u001b[0m \u001b[0;31m# p.detect_surface()\u001b[0m\u001b[0;34m\u001b[0m\u001b[0;34m\u001b[0m\u001b[0;34m\u001b[0m\u001b[0m\n\u001b[1;32m      9\u001b[0m \u001b[0;34m\u001b[0m\u001b[0m\n\u001b[0;32m---> 10\u001b[0;31m \u001b[0mdf_C2020\u001b[0m \u001b[0;34m=\u001b[0m \u001b[0mdensity_ssa\u001b[0m\u001b[0;34m.\u001b[0m\u001b[0mcalc\u001b[0m\u001b[0;34m(\u001b[0m\u001b[0mp\u001b[0m\u001b[0;34m.\u001b[0m\u001b[0msamples\u001b[0m\u001b[0;34m,\u001b[0m\u001b[0mcoeff_model\u001b[0m\u001b[0;34m=\u001b[0m\u001b[0;34m'C2020'\u001b[0m\u001b[0;34m,\u001b[0m\u001b[0mwindow\u001b[0m\u001b[0;34m=\u001b[0m\u001b[0mwindow_size\u001b[0m\u001b[0;34m)\u001b[0m\u001b[0;34m\u001b[0m\u001b[0;34m\u001b[0m\u001b[0m\n\u001b[0m\u001b[1;32m     11\u001b[0m \u001b[0mdf_C2020\u001b[0m\u001b[0;34m.\u001b[0m\u001b[0mcolumns\u001b[0m \u001b[0;34m=\u001b[0m \u001b[0;34m[\u001b[0m\u001b[0;34m'distance'\u001b[0m\u001b[0;34m,\u001b[0m \u001b[0;34m'Cdensity'\u001b[0m\u001b[0;34m,\u001b[0m \u001b[0;34m'Cssa'\u001b[0m\u001b[0;34m]\u001b[0m\u001b[0;34m\u001b[0m\u001b[0;34m\u001b[0m\u001b[0m\n\u001b[1;32m     12\u001b[0m \u001b[0;34m\u001b[0m\u001b[0m\n",
      "\u001b[0;32m~/opt/anaconda3/envs/snowex-microstructure/lib/python3.8/site-packages/snowmicropyn-1.0.1-py3.8.egg/snowmicropyn/density_ssa.py\u001b[0m in \u001b[0;36mcalc\u001b[0;34m(samples, coeff_model, window, overlap)\u001b[0m\n\u001b[1;32m    105\u001b[0m         \u001b[0msamples\u001b[0m\u001b[0;34m.\u001b[0m\u001b[0mloc\u001b[0m\u001b[0;34m[\u001b[0m\u001b[0msamples\u001b[0m\u001b[0;34m[\u001b[0m\u001b[0;34m'force'\u001b[0m\u001b[0;34m]\u001b[0m \u001b[0;34m<\u001b[0m \u001b[0;36m0\u001b[0m\u001b[0;34m,\u001b[0m \u001b[0;34m'force'\u001b[0m\u001b[0;34m]\u001b[0m \u001b[0;34m=\u001b[0m \u001b[0mnp\u001b[0m\u001b[0;34m.\u001b[0m\u001b[0mnan\u001b[0m\u001b[0;34m\u001b[0m\u001b[0;34m\u001b[0m\u001b[0m\n\u001b[1;32m    106\u001b[0m         \u001b[0msamples\u001b[0m\u001b[0;34m.\u001b[0m\u001b[0mforce\u001b[0m\u001b[0;34m.\u001b[0m\u001b[0minterpolate\u001b[0m\u001b[0;34m(\u001b[0m\u001b[0mmethod\u001b[0m\u001b[0;34m=\u001b[0m\u001b[0;34m'linear'\u001b[0m\u001b[0;34m,\u001b[0m \u001b[0minplace\u001b[0m\u001b[0;34m=\u001b[0m\u001b[0;32mTrue\u001b[0m\u001b[0;34m)\u001b[0m\u001b[0;34m\u001b[0m\u001b[0;34m\u001b[0m\u001b[0m\n\u001b[0;32m--> 107\u001b[0;31m         \u001b[0msn\u001b[0m \u001b[0;34m=\u001b[0m \u001b[0msnowmicropyn\u001b[0m\u001b[0;34m.\u001b[0m\u001b[0mloewe2012\u001b[0m\u001b[0;34m.\u001b[0m\u001b[0mcalc\u001b[0m\u001b[0;34m(\u001b[0m\u001b[0msamples\u001b[0m\u001b[0;34m,\u001b[0m \u001b[0mwindow\u001b[0m\u001b[0;34m,\u001b[0m \u001b[0moverlap\u001b[0m\u001b[0;34m)\u001b[0m\u001b[0;34m\u001b[0m\u001b[0;34m\u001b[0m\u001b[0m\n\u001b[0m\u001b[1;32m    108\u001b[0m \u001b[0;34m\u001b[0m\u001b[0m\n\u001b[1;32m    109\u001b[0m     \u001b[0mresult\u001b[0m \u001b[0;34m=\u001b[0m \u001b[0;34m[\u001b[0m\u001b[0;34m]\u001b[0m\u001b[0;34m\u001b[0m\u001b[0;34m\u001b[0m\u001b[0m\n",
      "\u001b[0;32m~/opt/anaconda3/envs/snowex-microstructure/lib/python3.8/site-packages/snowmicropyn-1.0.1-py3.8.egg/snowmicropyn/loewe2012.py\u001b[0m in \u001b[0;36mcalc\u001b[0;34m(samples, window, overlap)\u001b[0m\n\u001b[1;32m     87\u001b[0m     \u001b[0;32mfor\u001b[0m \u001b[0mcenter\u001b[0m\u001b[0;34m,\u001b[0m \u001b[0mchunk\u001b[0m \u001b[0;32min\u001b[0m \u001b[0mchunks\u001b[0m\u001b[0;34m:\u001b[0m\u001b[0;34m\u001b[0m\u001b[0;34m\u001b[0m\u001b[0m\n\u001b[1;32m     88\u001b[0m         \u001b[0mf_median\u001b[0m \u001b[0;34m=\u001b[0m \u001b[0mnp\u001b[0m\u001b[0;34m.\u001b[0m\u001b[0mmedian\u001b[0m\u001b[0;34m(\u001b[0m\u001b[0mchunk\u001b[0m\u001b[0;34m.\u001b[0m\u001b[0mforce\u001b[0m\u001b[0;34m)\u001b[0m\u001b[0;34m\u001b[0m\u001b[0;34m\u001b[0m\u001b[0m\n\u001b[0;32m---> 89\u001b[0;31m         \u001b[0msn\u001b[0m \u001b[0;34m=\u001b[0m \u001b[0mcalc_step\u001b[0m\u001b[0;34m(\u001b[0m\u001b[0mspatial_res\u001b[0m\u001b[0;34m,\u001b[0m \u001b[0mchunk\u001b[0m\u001b[0;34m.\u001b[0m\u001b[0mforce\u001b[0m\u001b[0;34m)\u001b[0m\u001b[0;34m\u001b[0m\u001b[0;34m\u001b[0m\u001b[0m\n\u001b[0m\u001b[1;32m     90\u001b[0m         \u001b[0mresult\u001b[0m\u001b[0;34m.\u001b[0m\u001b[0mappend\u001b[0m\u001b[0;34m(\u001b[0m\u001b[0;34m(\u001b[0m\u001b[0mcenter\u001b[0m\u001b[0;34m,\u001b[0m \u001b[0mf_median\u001b[0m\u001b[0;34m)\u001b[0m \u001b[0;34m+\u001b[0m \u001b[0msn\u001b[0m\u001b[0;34m)\u001b[0m\u001b[0;34m\u001b[0m\u001b[0;34m\u001b[0m\u001b[0m\n\u001b[1;32m     91\u001b[0m     return pd.DataFrame(result, columns=['distance', 'force_median', 'L2012_lambda', 'L2012_f0',\n",
      "\u001b[0;32m~/opt/anaconda3/envs/snowex-microstructure/lib/python3.8/site-packages/snowmicropyn-1.0.1-py3.8.egg/snowmicropyn/loewe2012.py\u001b[0m in \u001b[0;36mcalc_step\u001b[0;34m(spatial_res, forces, cone_area)\u001b[0m\n\u001b[1;32m     59\u001b[0m \u001b[0;34m\u001b[0m\u001b[0m\n\u001b[1;32m     60\u001b[0m     \u001b[0;31m# Equation 12 in publication\u001b[0m\u001b[0;34m\u001b[0m\u001b[0;34m\u001b[0m\u001b[0;34m\u001b[0m\u001b[0m\n\u001b[0;32m---> 61\u001b[0;31m     \u001b[0mlambda_\u001b[0m \u001b[0;34m=\u001b[0m \u001b[0;34m(\u001b[0m\u001b[0;36m4.\u001b[0m \u001b[0;34m/\u001b[0m \u001b[0;36m3\u001b[0m\u001b[0;34m)\u001b[0m \u001b[0;34m*\u001b[0m \u001b[0;34m(\u001b[0m\u001b[0mk1\u001b[0m \u001b[0;34m**\u001b[0m \u001b[0;36m2\u001b[0m\u001b[0;34m)\u001b[0m \u001b[0;34m/\u001b[0m \u001b[0mk2\u001b[0m \u001b[0;34m/\u001b[0m \u001b[0mdelta\u001b[0m  \u001b[0;31m# Intensity\u001b[0m\u001b[0;34m\u001b[0m\u001b[0;34m\u001b[0m\u001b[0m\n\u001b[0m\u001b[1;32m     62\u001b[0m     \u001b[0mf0\u001b[0m \u001b[0;34m=\u001b[0m \u001b[0;34m(\u001b[0m\u001b[0;36m3.\u001b[0m \u001b[0;34m/\u001b[0m \u001b[0;36m2\u001b[0m\u001b[0;34m)\u001b[0m \u001b[0;34m*\u001b[0m \u001b[0mk2\u001b[0m \u001b[0;34m/\u001b[0m \u001b[0mk1\u001b[0m\u001b[0;34m\u001b[0m\u001b[0;34m\u001b[0m\u001b[0m\n\u001b[1;32m     63\u001b[0m \u001b[0;34m\u001b[0m\u001b[0m\n",
      "\u001b[0;31mZeroDivisionError\u001b[0m: float division by zero"
     ]
    }
   ],
   "source": [
    "from snowmicropyn import Profile, density_ssa\n",
    "\n",
    "window_size = 4\n",
    "\n",
    "p = Profile.load(f'../data/SMP/SNEX20_SMP_S19M1172_2N13_20200206.PNT')\n",
    "\n",
    "p.detect_ground()\n",
    "# p.detect_surface()\n",
    "\n",
    "df_C2020 = density_ssa.calc(p.samples,coeff_model='C2020',window=window_size)\n",
    "df_C2020.columns = ['distance', 'Cdensity', 'Cssa']\n",
    "\n",
    "df_P2015 = density_ssa.calc(p.samples,coeff_model='P2015',window=window_size)\n",
    "df_P2015.columns = ['distance', 'Pdensity', 'Pssa']\n",
    "\n",
    "df_combined = pd.merge(left=df_P2015, right=df_C2020)\n",
    "\n",
    "df_combined = df_combined[(df_combined['distance'] < p.ground)]\n",
    "\n",
    "df_combined['distance_up'] = (p.ground - df_combined['distance'])/10\n",
    "\n",
    "df_combined"
   ]
  },
  {
   "cell_type": "code",
   "execution_count": 4,
   "id": "eb612d7a",
   "metadata": {},
   "outputs": [
    {
     "ename": "NameError",
     "evalue": "name 'df_combined' is not defined",
     "output_type": "error",
     "traceback": [
      "\u001b[0;31m---------------------------------------------------------------------------\u001b[0m",
      "\u001b[0;31mNameError\u001b[0m                                 Traceback (most recent call last)",
      "\u001b[0;32m<ipython-input-4-c4bfe0146553>\u001b[0m in \u001b[0;36m<module>\u001b[0;34m\u001b[0m\n\u001b[1;32m      2\u001b[0m \u001b[0;34m\u001b[0m\u001b[0m\n\u001b[1;32m      3\u001b[0m \u001b[0;34m\u001b[0m\u001b[0m\n\u001b[0;32m----> 4\u001b[0;31m ax.plot(df_combined['Cssa'],\n\u001b[0m\u001b[1;32m      5\u001b[0m         \u001b[0mdf_combined\u001b[0m\u001b[0;34m[\u001b[0m\u001b[0;34m'distance_up'\u001b[0m\u001b[0;34m]\u001b[0m\u001b[0;34m,\u001b[0m\u001b[0;34m\u001b[0m\u001b[0;34m\u001b[0m\u001b[0m\n\u001b[1;32m      6\u001b[0m         color='r',label='C2020')\n",
      "\u001b[0;31mNameError\u001b[0m: name 'df_combined' is not defined"
     ]
    },
    {
     "data": {
      "image/png": "[encoded data removed]",
      "text/plain": [
       "<Figure size 576x360 with 1 Axes>"
      ]
     },
     "metadata": {
      "needs_background": "light"
     },
     "output_type": "display_data"
    }
   ],
   "source": [
    "fig,ax = plt.subplots(figsize=(8,5))\n",
    "\n",
    "\n",
    "ax.plot(df_combined['Cssa'],\n",
    "        df_combined['distance_up'],\n",
    "        color='r',label='C2020')\n",
    "\n",
    "ax.plot(df_combined['Pssa'],\n",
    "        df_combined['distance_up'],\n",
    "        color='g',label='P2015')\n",
    "\n",
    "ax.plot(mct_df['SSA (m2/kg)'],\n",
    "         mct_df['height (cm)'],\n",
    "       label='mCT',\n",
    "        color='k',\n",
    "       zorder=5)\n",
    "\n",
    "ax.set_xlabel('SSA (m2/kg)', fontsize='x-large')\n",
    "ax.set_ylabel('Height above snow-soil interface [cm]', fontsize='x-large')\n",
    "\n",
    "ax.set_title(f'Site {site.upper()}', fontsize='x-large')\n",
    "\n",
    "ax.legend(loc='lower right', fontsize='x-large')\n",
    "\n",
    "plt.show()"
   ]
  },
  {
   "cell_type": "code",
   "execution_count": null,
   "id": "a2233b37-62a9-4ed4-950d-e19f1511a0be",
   "metadata": {},
   "outputs": [],
   "source": []
  }
 ],
 "metadata": {
  "kernelspec": {
   "display_name": "Python 3",
   "language": "python",
   "name": "python3"
  },
  "language_info": {
   "codemirror_mode": {
    "name": "ipython",
    "version": 3
   },
   "file_extension": ".py",
   "mimetype": "text/x-python",
   "name": "python",
   "nbconvert_exporter": "python",
   "pygments_lexer": "ipython3",
   "version": "3.8.8"
  }
 },
 "nbformat": 4,
 "nbformat_minor": 5
}
