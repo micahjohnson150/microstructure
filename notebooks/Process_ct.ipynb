{
 "cells": [
  {
   "cell_type": "markdown",
   "id": "f6a60b77-a22d-4a6a-9198-38ce560815b4",
   "metadata": {},
   "source": [
    "## Process microCT data in sections"
   ]
  },
  {
   "cell_type": "code",
   "execution_count": null,
   "id": "63ae1dd7-cecf-4598-9ee1-91670d1b9de0",
   "metadata": {},
   "outputs": [],
   "source": [
    "import os\n",
    "import pandas as pd\n",
    "\n",
    "from henning_lowe import subsection_ssa"
   ]
  },
  {
   "cell_type": "code",
   "execution_count": null,
   "id": "a9df6bb3-b085-48d8-867d-2abe70d792ab",
   "metadata": {},
   "outputs": [],
   "source": [
    "# Determine folders containing .png files\n",
    "# Each .png is a 20 micron subsample slice within each 2cm section sample\n",
    "data_dir = \"../data/microCT/images\"\n",
    "dirs = os.listdir(data_dir)\n",
    "print ('There are', len(dirs), 'directories')\n",
    "\n",
    "# Calculate the number of files to analyze!\n",
    "number_of_subsamples = [len(os.listdir(data_dir + '/' + d)) for d in dirs[:-2]]\n",
    "print ('There are', sum(number_of_subsamples), 'image files to analyze')\n",
    "\n",
    "# Pixel size\n",
    "# 20.5 microns: email from Lauren-> Mike 12th Jan 2021\n",
    "pixel_size = 20.5e-6\n"
   ]
  },
  {
   "cell_type": "code",
   "execution_count": null,
   "id": "da6e729a-8d66-4e7d-8d1b-e1a1fbc34186",
   "metadata": {},
   "outputs": [],
   "source": [
    "# Reprocess (individual dataframes per 2cm sample)\n",
    "all_microCT = [subsection_ssa(data_dir, d, pixel_size) for d in dirs[:-2]]"
   ]
  },
  {
   "cell_type": "code",
   "execution_count": null,
   "id": "96bcb465-fa0a-4751-8516-9322860d92f1",
   "metadata": {},
   "outputs": [],
   "source": [
    "# Join all dataframes together\n",
    "all_microCT_concat = pd.concat(all_microCT, ignore_index=True)\n",
    "# Sort by estimated height (NB may be some issues....)\n",
    "all_microCT_concat.sort_values(by='estimated_height', ascending=False)\n",
    "# Output to csv\n",
    "all_microCT_concat.to_csv('reprocessed_microCT.csv')"
   ]
  },
  {
   "cell_type": "code",
   "execution_count": null,
   "id": "fd51b42b-9308-472b-9abd-63d3feb8a20f",
   "metadata": {},
   "outputs": [],
   "source": []
  }
 ],
 "metadata": {
  "kernelspec": {
   "display_name": "Python 3 (ipykernel)",
   "language": "python",
   "name": "python3"
  },
  "language_info": {
   "codemirror_mode": {
    "name": "ipython",
    "version": 3
   },
   "file_extension": ".py",
   "mimetype": "text/x-python",
   "name": "python",
   "nbconvert_exporter": "python",
   "pygments_lexer": "ipython3",
   "version": "3.7.10"
  }
 },
 "nbformat": 4,
 "nbformat_minor": 5
}
